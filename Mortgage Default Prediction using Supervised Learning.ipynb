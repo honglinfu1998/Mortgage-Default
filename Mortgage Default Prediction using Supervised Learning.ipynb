{
 "cells": [
  {
   "cell_type": "code",
   "execution_count": 1,
   "metadata": {},
   "outputs": [],
   "source": [
    "import pandas as pd\n",
    "import numpy as np\n",
    "import matplotlib.pyplot as plt\n",
    "import seaborn as sns\n",
    "import datetime"
   ]
  },
  {
   "cell_type": "markdown",
   "metadata": {},
   "source": [
    "## Part 1: Processing data"
   ]
  },
  {
   "cell_type": "code",
   "execution_count": 2,
   "metadata": {},
   "outputs": [
    {
     "data": {
      "text/html": [
       "<div>\n",
       "<style scoped>\n",
       "    .dataframe tbody tr th:only-of-type {\n",
       "        vertical-align: middle;\n",
       "    }\n",
       "\n",
       "    .dataframe tbody tr th {\n",
       "        vertical-align: top;\n",
       "    }\n",
       "\n",
       "    .dataframe thead th {\n",
       "        text-align: right;\n",
       "    }\n",
       "</style>\n",
       "<table border=\"1\" class=\"dataframe\">\n",
       "  <thead>\n",
       "    <tr style=\"text-align: right;\">\n",
       "      <th></th>\n",
       "      <th>LID</th>\n",
       "      <th>CHNL</th>\n",
       "      <th>SELLER</th>\n",
       "      <th>ORIGRATE</th>\n",
       "      <th>CURRRATE</th>\n",
       "      <th>ORIGUPB</th>\n",
       "      <th>CURRUPB</th>\n",
       "      <th>ORIGTERM</th>\n",
       "      <th>ORIGDATE</th>\n",
       "      <th>FSTPAY</th>\n",
       "      <th>...</th>\n",
       "      <th>NO_UNITS</th>\n",
       "      <th>OCCSTAT</th>\n",
       "      <th>STATE</th>\n",
       "      <th>MSA</th>\n",
       "      <th>ZIP</th>\n",
       "      <th>MIPCT</th>\n",
       "      <th>PRODUCT</th>\n",
       "      <th>IO</th>\n",
       "      <th>NMONTHS</th>\n",
       "      <th>FORCLOSED</th>\n",
       "    </tr>\n",
       "  </thead>\n",
       "  <tbody>\n",
       "    <tr>\n",
       "      <th>0</th>\n",
       "      <td>389240861929</td>\n",
       "      <td>B</td>\n",
       "      <td>Flagstar Bank, Fsb</td>\n",
       "      <td>6.750</td>\n",
       "      <td>6.750</td>\n",
       "      <td>113000.0</td>\n",
       "      <td>0.0</td>\n",
       "      <td>360</td>\n",
       "      <td>72001</td>\n",
       "      <td>92001</td>\n",
       "      <td>...</td>\n",
       "      <td>1</td>\n",
       "      <td>P</td>\n",
       "      <td>OH</td>\n",
       "      <td>19380</td>\n",
       "      <td>454</td>\n",
       "      <td>30.0</td>\n",
       "      <td>FRM</td>\n",
       "      <td>NaN</td>\n",
       "      <td>40</td>\n",
       "      <td>False</td>\n",
       "    </tr>\n",
       "    <tr>\n",
       "      <th>1</th>\n",
       "      <td>874875771135</td>\n",
       "      <td>C</td>\n",
       "      <td>Bank Of America, N.A.</td>\n",
       "      <td>7.375</td>\n",
       "      <td>7.375</td>\n",
       "      <td>156000.0</td>\n",
       "      <td>0.0</td>\n",
       "      <td>360</td>\n",
       "      <td>62001</td>\n",
       "      <td>82001</td>\n",
       "      <td>...</td>\n",
       "      <td>1</td>\n",
       "      <td>P</td>\n",
       "      <td>FL</td>\n",
       "      <td>0</td>\n",
       "      <td>330</td>\n",
       "      <td>NaN</td>\n",
       "      <td>FRM</td>\n",
       "      <td>NaN</td>\n",
       "      <td>23</td>\n",
       "      <td>False</td>\n",
       "    </tr>\n",
       "    <tr>\n",
       "      <th>2</th>\n",
       "      <td>303998715891</td>\n",
       "      <td>R</td>\n",
       "      <td>Bishops Gate Residential Mortgage Trust</td>\n",
       "      <td>7.000</td>\n",
       "      <td>7.000</td>\n",
       "      <td>83000.0</td>\n",
       "      <td>0.0</td>\n",
       "      <td>360</td>\n",
       "      <td>62001</td>\n",
       "      <td>82001</td>\n",
       "      <td>...</td>\n",
       "      <td>1</td>\n",
       "      <td>P</td>\n",
       "      <td>ME</td>\n",
       "      <td>38860</td>\n",
       "      <td>40</td>\n",
       "      <td>NaN</td>\n",
       "      <td>FRM</td>\n",
       "      <td>NaN</td>\n",
       "      <td>22</td>\n",
       "      <td>False</td>\n",
       "    </tr>\n",
       "    <tr>\n",
       "      <th>3</th>\n",
       "      <td>949303781872</td>\n",
       "      <td>C</td>\n",
       "      <td>Jpmorgan Chase Bank, Na</td>\n",
       "      <td>7.375</td>\n",
       "      <td>7.375</td>\n",
       "      <td>275000.0</td>\n",
       "      <td>0.0</td>\n",
       "      <td>360</td>\n",
       "      <td>32001</td>\n",
       "      <td>52001</td>\n",
       "      <td>...</td>\n",
       "      <td>1</td>\n",
       "      <td>P</td>\n",
       "      <td>NH</td>\n",
       "      <td>14460</td>\n",
       "      <td>38</td>\n",
       "      <td>NaN</td>\n",
       "      <td>FRM</td>\n",
       "      <td>NaN</td>\n",
       "      <td>14</td>\n",
       "      <td>False</td>\n",
       "    </tr>\n",
       "    <tr>\n",
       "      <th>4</th>\n",
       "      <td>378568113948</td>\n",
       "      <td>C</td>\n",
       "      <td>Other</td>\n",
       "      <td>6.875</td>\n",
       "      <td>6.875</td>\n",
       "      <td>203000.0</td>\n",
       "      <td>0.0</td>\n",
       "      <td>360</td>\n",
       "      <td>72001</td>\n",
       "      <td>92001</td>\n",
       "      <td>...</td>\n",
       "      <td>1</td>\n",
       "      <td>P</td>\n",
       "      <td>AZ</td>\n",
       "      <td>38060</td>\n",
       "      <td>850</td>\n",
       "      <td>12.0</td>\n",
       "      <td>FRM</td>\n",
       "      <td>NaN</td>\n",
       "      <td>16</td>\n",
       "      <td>False</td>\n",
       "    </tr>\n",
       "  </tbody>\n",
       "</table>\n",
       "<p>5 rows × 33 columns</p>\n",
       "</div>"
      ],
      "text/plain": [
       "            LID CHNL                                   SELLER  ORIGRATE  \\\n",
       "0  389240861929    B                       Flagstar Bank, Fsb     6.750   \n",
       "1  874875771135    C                    Bank Of America, N.A.     7.375   \n",
       "2  303998715891    R  Bishops Gate Residential Mortgage Trust     7.000   \n",
       "3  949303781872    C                  Jpmorgan Chase Bank, Na     7.375   \n",
       "4  378568113948    C                                    Other     6.875   \n",
       "\n",
       "   CURRRATE   ORIGUPB  CURRUPB  ORIGTERM  ORIGDATE  FSTPAY  ...  NO_UNITS  \\\n",
       "0     6.750  113000.0      0.0       360     72001   92001  ...         1   \n",
       "1     7.375  156000.0      0.0       360     62001   82001  ...         1   \n",
       "2     7.000   83000.0      0.0       360     62001   82001  ...         1   \n",
       "3     7.375  275000.0      0.0       360     32001   52001  ...         1   \n",
       "4     6.875  203000.0      0.0       360     72001   92001  ...         1   \n",
       "\n",
       "   OCCSTAT  STATE    MSA  ZIP  MIPCT  PRODUCT   IO  NMONTHS  FORCLOSED  \n",
       "0        P     OH  19380  454   30.0      FRM  NaN       40      False  \n",
       "1        P     FL      0  330    NaN      FRM  NaN       23      False  \n",
       "2        P     ME  38860   40    NaN      FRM  NaN       22      False  \n",
       "3        P     NH  14460   38    NaN      FRM  NaN       14      False  \n",
       "4        P     AZ  38060  850   12.0      FRM  NaN       16      False  \n",
       "\n",
       "[5 rows x 33 columns]"
      ]
     },
     "execution_count": 2,
     "metadata": {},
     "output_type": "execute_result"
    }
   ],
   "source": [
    "df = pd.read_csv('TrainingData.csv')\n",
    "df.head()"
   ]
  },
  {
   "cell_type": "code",
   "execution_count": 3,
   "metadata": {},
   "outputs": [
    {
     "data": {
      "text/html": [
       "<div>\n",
       "<style scoped>\n",
       "    .dataframe tbody tr th:only-of-type {\n",
       "        vertical-align: middle;\n",
       "    }\n",
       "\n",
       "    .dataframe tbody tr th {\n",
       "        vertical-align: top;\n",
       "    }\n",
       "\n",
       "    .dataframe thead th {\n",
       "        text-align: right;\n",
       "    }\n",
       "</style>\n",
       "<table border=\"1\" class=\"dataframe\">\n",
       "  <thead>\n",
       "    <tr style=\"text-align: right;\">\n",
       "      <th></th>\n",
       "      <th>LID</th>\n",
       "      <th>CHNL</th>\n",
       "      <th>SELLER</th>\n",
       "      <th>ORIGRATE</th>\n",
       "      <th>CURRRATE</th>\n",
       "      <th>ORIGUPB</th>\n",
       "      <th>CURRUPB</th>\n",
       "      <th>ORIGTERM</th>\n",
       "      <th>ORIGDATE</th>\n",
       "      <th>FSTPAY</th>\n",
       "      <th>...</th>\n",
       "      <th>PURPOSE</th>\n",
       "      <th>PROP</th>\n",
       "      <th>NO_UNITS</th>\n",
       "      <th>OCCSTAT</th>\n",
       "      <th>STATE</th>\n",
       "      <th>MSA</th>\n",
       "      <th>ZIP</th>\n",
       "      <th>MIPCT</th>\n",
       "      <th>PRODUCT</th>\n",
       "      <th>IO</th>\n",
       "    </tr>\n",
       "  </thead>\n",
       "  <tbody>\n",
       "    <tr>\n",
       "      <th>0</th>\n",
       "      <td>492709308515</td>\n",
       "      <td>B</td>\n",
       "      <td>Bank Of America, N.A.</td>\n",
       "      <td>7.000</td>\n",
       "      <td>7.000</td>\n",
       "      <td>176000.0</td>\n",
       "      <td>0.0</td>\n",
       "      <td>360</td>\n",
       "      <td>72001</td>\n",
       "      <td>82001</td>\n",
       "      <td>...</td>\n",
       "      <td>P</td>\n",
       "      <td>SF</td>\n",
       "      <td>1</td>\n",
       "      <td>P</td>\n",
       "      <td>KS</td>\n",
       "      <td>28140</td>\n",
       "      <td>660</td>\n",
       "      <td>30.0</td>\n",
       "      <td>FRM</td>\n",
       "      <td>NaN</td>\n",
       "    </tr>\n",
       "    <tr>\n",
       "      <th>1</th>\n",
       "      <td>687810129762</td>\n",
       "      <td>C</td>\n",
       "      <td>Jpmorgan Chase Bank, Na</td>\n",
       "      <td>7.000</td>\n",
       "      <td>7.000</td>\n",
       "      <td>251000.0</td>\n",
       "      <td>0.0</td>\n",
       "      <td>360</td>\n",
       "      <td>62001</td>\n",
       "      <td>82001</td>\n",
       "      <td>...</td>\n",
       "      <td>P</td>\n",
       "      <td>SF</td>\n",
       "      <td>1</td>\n",
       "      <td>P</td>\n",
       "      <td>IL</td>\n",
       "      <td>16980</td>\n",
       "      <td>605</td>\n",
       "      <td>NaN</td>\n",
       "      <td>FRM</td>\n",
       "      <td>NaN</td>\n",
       "    </tr>\n",
       "    <tr>\n",
       "      <th>2</th>\n",
       "      <td>382328232416</td>\n",
       "      <td>R</td>\n",
       "      <td>Bank Of America, N.A.</td>\n",
       "      <td>7.000</td>\n",
       "      <td>7.000</td>\n",
       "      <td>48000.0</td>\n",
       "      <td>0.0</td>\n",
       "      <td>180</td>\n",
       "      <td>62001</td>\n",
       "      <td>82001</td>\n",
       "      <td>...</td>\n",
       "      <td>R</td>\n",
       "      <td>SF</td>\n",
       "      <td>1</td>\n",
       "      <td>P</td>\n",
       "      <td>MO</td>\n",
       "      <td>17860</td>\n",
       "      <td>652</td>\n",
       "      <td>NaN</td>\n",
       "      <td>FRM</td>\n",
       "      <td>NaN</td>\n",
       "    </tr>\n",
       "    <tr>\n",
       "      <th>3</th>\n",
       "      <td>315002225730</td>\n",
       "      <td>R</td>\n",
       "      <td>Jpmorgan Chase Bank, National Association</td>\n",
       "      <td>7.250</td>\n",
       "      <td>7.250</td>\n",
       "      <td>268000.0</td>\n",
       "      <td>0.0</td>\n",
       "      <td>360</td>\n",
       "      <td>62001</td>\n",
       "      <td>82001</td>\n",
       "      <td>...</td>\n",
       "      <td>P</td>\n",
       "      <td>SF</td>\n",
       "      <td>1</td>\n",
       "      <td>P</td>\n",
       "      <td>FL</td>\n",
       "      <td>45300</td>\n",
       "      <td>336</td>\n",
       "      <td>NaN</td>\n",
       "      <td>FRM</td>\n",
       "      <td>NaN</td>\n",
       "    </tr>\n",
       "    <tr>\n",
       "      <th>4</th>\n",
       "      <td>429983647228</td>\n",
       "      <td>R</td>\n",
       "      <td>Other</td>\n",
       "      <td>6.875</td>\n",
       "      <td>6.875</td>\n",
       "      <td>75000.0</td>\n",
       "      <td>0.0</td>\n",
       "      <td>180</td>\n",
       "      <td>82001</td>\n",
       "      <td>102001</td>\n",
       "      <td>...</td>\n",
       "      <td>P</td>\n",
       "      <td>PU</td>\n",
       "      <td>1</td>\n",
       "      <td>P</td>\n",
       "      <td>IN</td>\n",
       "      <td>26900</td>\n",
       "      <td>462</td>\n",
       "      <td>25.0</td>\n",
       "      <td>FRM</td>\n",
       "      <td>NaN</td>\n",
       "    </tr>\n",
       "  </tbody>\n",
       "</table>\n",
       "<p>5 rows × 31 columns</p>\n",
       "</div>"
      ],
      "text/plain": [
       "            LID CHNL                                     SELLER  ORIGRATE  \\\n",
       "0  492709308515    B                      Bank Of America, N.A.     7.000   \n",
       "1  687810129762    C                    Jpmorgan Chase Bank, Na     7.000   \n",
       "2  382328232416    R                      Bank Of America, N.A.     7.000   \n",
       "3  315002225730    R  Jpmorgan Chase Bank, National Association     7.250   \n",
       "4  429983647228    R                                      Other     6.875   \n",
       "\n",
       "   CURRRATE   ORIGUPB  CURRUPB  ORIGTERM  ORIGDATE  FSTPAY  ...  PURPOSE  \\\n",
       "0     7.000  176000.0      0.0       360     72001   82001  ...        P   \n",
       "1     7.000  251000.0      0.0       360     62001   82001  ...        P   \n",
       "2     7.000   48000.0      0.0       180     62001   82001  ...        R   \n",
       "3     7.250  268000.0      0.0       360     62001   82001  ...        P   \n",
       "4     6.875   75000.0      0.0       180     82001  102001  ...        P   \n",
       "\n",
       "   PROP  NO_UNITS  OCCSTAT  STATE    MSA  ZIP  MIPCT  PRODUCT   IO  \n",
       "0    SF         1        P     KS  28140  660   30.0      FRM  NaN  \n",
       "1    SF         1        P     IL  16980  605    NaN      FRM  NaN  \n",
       "2    SF         1        P     MO  17860  652    NaN      FRM  NaN  \n",
       "3    SF         1        P     FL  45300  336    NaN      FRM  NaN  \n",
       "4    PU         1        P     IN  26900  462   25.0      FRM  NaN  \n",
       "\n",
       "[5 rows x 31 columns]"
      ]
     },
     "execution_count": 3,
     "metadata": {},
     "output_type": "execute_result"
    }
   ],
   "source": [
    "df2 = pd.read_csv('TestDataYremoved.csv')\n",
    "df2.head()"
   ]
  },
  {
   "cell_type": "markdown",
   "metadata": {},
   "source": [
    "### Drop the ID feature"
   ]
  },
  {
   "cell_type": "code",
   "execution_count": 4,
   "metadata": {},
   "outputs": [],
   "source": [
    "df.drop('LID', axis = 1, inplace=True)\n",
    "df2.drop('LID', axis = 1, inplace=True)"
   ]
  },
  {
   "cell_type": "markdown",
   "metadata": {},
   "source": [
    "### See how many unique entries for each feature in train set, and remove the entry with only one value\n"
   ]
  },
  {
   "cell_type": "code",
   "execution_count": 5,
   "metadata": {},
   "outputs": [
    {
     "name": "stdout",
     "output_type": "stream",
     "text": [
      "CURRUPB [0.]\n",
      "PRODUCT ['FRM']\n"
     ]
    }
   ],
   "source": [
    "for col in df.columns:\n",
    "    if len(df[col].unique()) == 1:\n",
    "        print(col, df[col].unique())"
   ]
  },
  {
   "cell_type": "code",
   "execution_count": 6,
   "metadata": {},
   "outputs": [],
   "source": [
    "#Drop the entry with only one value\n",
    "df.drop(['CURRUPB','PRODUCT'], axis = 1, inplace=True)"
   ]
  },
  {
   "cell_type": "code",
   "execution_count": 7,
   "metadata": {},
   "outputs": [],
   "source": [
    "#Drop the entry with only one value for testing \n",
    "df2.drop(['CURRUPB','PRODUCT'], axis = 1, inplace=True)"
   ]
  },
  {
   "cell_type": "markdown",
   "metadata": {},
   "source": [
    "### Check for missing data"
   ]
  },
  {
   "cell_type": "code",
   "execution_count": 8,
   "metadata": {},
   "outputs": [
    {
     "name": "stdout",
     "output_type": "stream",
     "text": [
      "0    588490\n",
      "Name: CHNL, dtype: int64\n",
      "0    588490\n",
      "Name: SELLER, dtype: int64\n",
      "0    588490\n",
      "Name: ORIGRATE, dtype: int64\n",
      "0    588490\n",
      "Name: CURRRATE, dtype: int64\n",
      "0    588490\n",
      "Name: ORIGUPB, dtype: int64\n",
      "0    588490\n",
      "Name: ORIGTERM, dtype: int64\n",
      "0    588490\n",
      "Name: ORIGDATE, dtype: int64\n",
      "0    588490\n",
      "Name: FSTPAY, dtype: int64\n",
      "0    588490\n",
      "Name: LOANAGE, dtype: int64\n",
      "0    588490\n",
      "Name: REMMNTHS, dtype: int64\n",
      "0    588490\n",
      "Name: ADJRMTHS, dtype: int64\n",
      "0    588490\n",
      "Name: MATDT, dtype: int64\n",
      "0    588490\n",
      "Name: OLTV, dtype: int64\n",
      "0    588476\n",
      "1        14\n",
      "Name: OCLTV, dtype: int64\n",
      "0    587789\n",
      "1       701\n",
      "Name: NUMBO, dtype: int64\n",
      "0    567427\n",
      "1     21063\n",
      "Name: DTI, dtype: int64\n",
      "0    579558\n",
      "1      8932\n",
      "Name: CSCOREB, dtype: int64\n",
      "1    310742\n",
      "0    277748\n",
      "Name: CSCOREC, dtype: int64\n",
      "0    586492\n",
      "1      1998\n",
      "Name: FIRSTFLAG, dtype: int64\n",
      "0    588490\n",
      "Name: PURPOSE, dtype: int64\n",
      "0    588490\n",
      "Name: PROP, dtype: int64\n",
      "0    588490\n",
      "Name: NO_UNITS, dtype: int64\n",
      "0    588490\n",
      "Name: OCCSTAT, dtype: int64\n",
      "0    588490\n",
      "Name: STATE, dtype: int64\n",
      "0    588490\n",
      "Name: MSA, dtype: int64\n",
      "0    588490\n",
      "Name: ZIP, dtype: int64\n",
      "1    447581\n",
      "0    140909\n",
      "Name: MIPCT, dtype: int64\n",
      "1    545333\n",
      "0     43157\n",
      "Name: IO, dtype: int64\n",
      "0    588490\n",
      "Name: NMONTHS, dtype: int64\n",
      "0    588490\n",
      "Name: FORCLOSED, dtype: int64\n"
     ]
    }
   ],
   "source": [
    "#Deal with miss predictive in train set\n",
    "for col in df.columns:\n",
    "    print(pd.isnull(df[col]).astype(int).value_counts())"
   ]
  },
  {
   "cell_type": "code",
   "execution_count": 9,
   "metadata": {},
   "outputs": [
    {
     "name": "stdout",
     "output_type": "stream",
     "text": [
      "0    196164\n",
      "Name: CHNL, dtype: int64\n",
      "0    196164\n",
      "Name: SELLER, dtype: int64\n",
      "0    196164\n",
      "Name: ORIGRATE, dtype: int64\n",
      "0    196164\n",
      "Name: CURRRATE, dtype: int64\n",
      "0    196164\n",
      "Name: ORIGUPB, dtype: int64\n",
      "0    196164\n",
      "Name: ORIGTERM, dtype: int64\n",
      "0    196164\n",
      "Name: ORIGDATE, dtype: int64\n",
      "0    196164\n",
      "Name: FSTPAY, dtype: int64\n",
      "0    196164\n",
      "Name: LOANAGE, dtype: int64\n",
      "0    196164\n",
      "Name: REMMNTHS, dtype: int64\n",
      "0    196164\n",
      "Name: ADJRMTHS, dtype: int64\n",
      "0    196164\n",
      "Name: MATDT, dtype: int64\n",
      "0    196164\n",
      "Name: OLTV, dtype: int64\n",
      "0    196156\n",
      "1         8\n",
      "Name: OCLTV, dtype: int64\n",
      "0    195916\n",
      "1       248\n",
      "Name: NUMBO, dtype: int64\n",
      "0    189148\n",
      "1      7016\n",
      "Name: DTI, dtype: int64\n",
      "0    193237\n",
      "1      2927\n",
      "Name: CSCOREB, dtype: int64\n",
      "1    104072\n",
      "0     92092\n",
      "Name: CSCOREC, dtype: int64\n",
      "0    195484\n",
      "1       680\n",
      "Name: FIRSTFLAG, dtype: int64\n",
      "0    196164\n",
      "Name: PURPOSE, dtype: int64\n",
      "0    196164\n",
      "Name: PROP, dtype: int64\n",
      "0    196164\n",
      "Name: NO_UNITS, dtype: int64\n",
      "0    196164\n",
      "Name: OCCSTAT, dtype: int64\n",
      "0    196164\n",
      "Name: STATE, dtype: int64\n",
      "0    196164\n",
      "Name: MSA, dtype: int64\n",
      "0    196164\n",
      "Name: ZIP, dtype: int64\n",
      "1    149259\n",
      "0     46905\n",
      "Name: MIPCT, dtype: int64\n",
      "1    181789\n",
      "0     14375\n",
      "Name: IO, dtype: int64\n"
     ]
    }
   ],
   "source": [
    "#Deal with miss predictive in test set\n",
    "for col in df2.columns:\n",
    "    print(pd.isna(df2[col]).astype(int).value_counts())"
   ]
  },
  {
   "cell_type": "code",
   "execution_count": 10,
   "metadata": {},
   "outputs": [
    {
     "name": "stdout",
     "output_type": "stream",
     "text": [
      "IO         0.926665\n",
      "MIPCT      0.760558\n",
      "CSCOREC    0.528033\n",
      "dtype: float64\n",
      "IO         0.308908\n",
      "MIPCT      0.253630\n",
      "CSCOREC    0.176846\n",
      "dtype: float64\n"
     ]
    }
   ],
   "source": [
    "check_null = df.isnull().sum(axis = 0).sort_values(ascending = False)/len(df)\n",
    "print(check_null[check_null > 0.15])\n",
    "check_null2 = df2.isnull().sum(axis = 0).sort_values(ascending = False)/len(df)\n",
    "print(check_null2[check_null2 > 0.15])"
   ]
  },
  {
   "cell_type": "markdown",
   "metadata": {},
   "source": [
    "### Drop the features with too many missing values, for IO we fill the NaN"
   ]
  },
  {
   "cell_type": "code",
   "execution_count": 11,
   "metadata": {},
   "outputs": [
    {
     "data": {
      "text/plain": [
       "0    NaN\n",
       "1    NaN\n",
       "2    NaN\n",
       "3    NaN\n",
       "4    NaN\n",
       "5      N\n",
       "6    NaN\n",
       "7    NaN\n",
       "8    NaN\n",
       "9    NaN\n",
       "Name: IO, dtype: object"
      ]
     },
     "execution_count": 11,
     "metadata": {},
     "output_type": "execute_result"
    }
   ],
   "source": [
    "df['IO'].head(10)"
   ]
  },
  {
   "cell_type": "code",
   "execution_count": 12,
   "metadata": {},
   "outputs": [],
   "source": [
    "#Fill the NaN with Y because only N specified\n",
    "df.loc[df[\"IO\"].isna(),\"IO\"]=\"Y\"\n",
    "#Fill the NaN with Y because only N specified for testing\n",
    "df2.loc[df2[\"IO\"].isna(),\"IO\"]=\"Y\""
   ]
  },
  {
   "cell_type": "code",
   "execution_count": 13,
   "metadata": {},
   "outputs": [],
   "source": [
    "# Drop the feature with too many missing values espacially for test\n",
    "# Here MIPCT AND CSCOREC\n",
    "df.drop(['MIPCT','CSCOREC'], axis = 1, inplace=True)\n"
   ]
  },
  {
   "cell_type": "code",
   "execution_count": 14,
   "metadata": {},
   "outputs": [],
   "source": [
    "# Drop the feature with too many missing values espacially for test\n",
    "# Here MIPCT AND CSCOREC\n",
    "df2.drop(['MIPCT','CSCOREC'], axis = 1, inplace=True)\n"
   ]
  },
  {
   "cell_type": "markdown",
   "metadata": {},
   "source": [
    "### Deal with missing data in categorical features and fill with mode"
   ]
  },
  {
   "cell_type": "code",
   "execution_count": 15,
   "metadata": {},
   "outputs": [
    {
     "data": {
      "text/plain": [
       "N    539992\n",
       "Y     46500\n",
       "Name: FIRSTFLAG, dtype: int64"
      ]
     },
     "execution_count": 15,
     "metadata": {},
     "output_type": "execute_result"
    }
   ],
   "source": [
    "df[\"FIRSTFLAG\"].value_counts()"
   ]
  },
  {
   "cell_type": "code",
   "execution_count": 16,
   "metadata": {},
   "outputs": [],
   "source": [
    "#Fill NA with mode\n",
    "df.loc[df[\"FIRSTFLAG\"].isna(),\"FIRSTFLAG\"]=\"N\""
   ]
  },
  {
   "cell_type": "code",
   "execution_count": 17,
   "metadata": {},
   "outputs": [],
   "source": [
    "#Fill NA with mode for testing\n",
    "df2.loc[df2[\"FIRSTFLAG\"].isna(),\"FIRSTFLAG\"]=\"N\""
   ]
  },
  {
   "cell_type": "markdown",
   "metadata": {},
   "source": [
    "### Deal with missing data in numerical features and fill with mean"
   ]
  },
  {
   "cell_type": "code",
   "execution_count": 18,
   "metadata": {},
   "outputs": [],
   "source": [
    "#Fill the missing numerical value with mean \n",
    "df.loc[df[\"OCLTV\"].isna(),\"OCLTV\"]=df[\"OCLTV\"].mean().astype(int)\n",
    "df.loc[df[\"NUMBO\"].isna(),\"NUMBO\"]=df[\"NUMBO\"].mean().astype(int)\n",
    "df.loc[df[\"DTI\"].isna(),\"DTI\"]=df[\"DTI\"].mean().astype(int)\n",
    "df.loc[df[\"CSCOREB\"].isna(),\"CSCOREB\"]=df[\"CSCOREB\"].mean().astype(int)"
   ]
  },
  {
   "cell_type": "code",
   "execution_count": 19,
   "metadata": {},
   "outputs": [],
   "source": [
    "#Fill the missing numerical value with mean for testing\n",
    "df2.loc[df2[\"OCLTV\"].isna(),\"OCLTV\"]=df2[\"OCLTV\"].mean().astype(int)\n",
    "df2.loc[df2[\"NUMBO\"].isna(),\"NUMBO\"]=df2[\"NUMBO\"].mean().astype(int)\n",
    "df2.loc[df2[\"DTI\"].isna(),\"DTI\"]=df2[\"DTI\"].mean().astype(int)\n",
    "df2.loc[df2[\"CSCOREB\"].isna(),\"CSCOREB\"]=df2[\"CSCOREB\"].mean().astype(int)"
   ]
  },
  {
   "cell_type": "markdown",
   "metadata": {},
   "source": [
    "### Check missing for data now"
   ]
  },
  {
   "cell_type": "code",
   "execution_count": 20,
   "metadata": {},
   "outputs": [
    {
     "name": "stdout",
     "output_type": "stream",
     "text": [
      "0    588490\n",
      "Name: CHNL, dtype: int64\n",
      "0    588490\n",
      "Name: SELLER, dtype: int64\n",
      "0    588490\n",
      "Name: ORIGRATE, dtype: int64\n",
      "0    588490\n",
      "Name: CURRRATE, dtype: int64\n",
      "0    588490\n",
      "Name: ORIGUPB, dtype: int64\n",
      "0    588490\n",
      "Name: ORIGTERM, dtype: int64\n",
      "0    588490\n",
      "Name: ORIGDATE, dtype: int64\n",
      "0    588490\n",
      "Name: FSTPAY, dtype: int64\n",
      "0    588490\n",
      "Name: LOANAGE, dtype: int64\n",
      "0    588490\n",
      "Name: REMMNTHS, dtype: int64\n",
      "0    588490\n",
      "Name: ADJRMTHS, dtype: int64\n",
      "0    588490\n",
      "Name: MATDT, dtype: int64\n",
      "0    588490\n",
      "Name: OLTV, dtype: int64\n",
      "0    588490\n",
      "Name: OCLTV, dtype: int64\n",
      "0    588490\n",
      "Name: NUMBO, dtype: int64\n",
      "0    588490\n",
      "Name: DTI, dtype: int64\n",
      "0    588490\n",
      "Name: CSCOREB, dtype: int64\n",
      "0    588490\n",
      "Name: FIRSTFLAG, dtype: int64\n",
      "0    588490\n",
      "Name: PURPOSE, dtype: int64\n",
      "0    588490\n",
      "Name: PROP, dtype: int64\n",
      "0    588490\n",
      "Name: NO_UNITS, dtype: int64\n",
      "0    588490\n",
      "Name: OCCSTAT, dtype: int64\n",
      "0    588490\n",
      "Name: STATE, dtype: int64\n",
      "0    588490\n",
      "Name: MSA, dtype: int64\n",
      "0    588490\n",
      "Name: ZIP, dtype: int64\n",
      "0    588490\n",
      "Name: IO, dtype: int64\n",
      "0    588490\n",
      "Name: NMONTHS, dtype: int64\n",
      "0    588490\n",
      "Name: FORCLOSED, dtype: int64\n",
      "0    196164\n",
      "Name: CHNL, dtype: int64\n",
      "0    196164\n",
      "Name: SELLER, dtype: int64\n",
      "0    196164\n",
      "Name: ORIGRATE, dtype: int64\n",
      "0    196164\n",
      "Name: CURRRATE, dtype: int64\n",
      "0    196164\n",
      "Name: ORIGUPB, dtype: int64\n",
      "0    196164\n",
      "Name: ORIGTERM, dtype: int64\n",
      "0    196164\n",
      "Name: ORIGDATE, dtype: int64\n",
      "0    196164\n",
      "Name: FSTPAY, dtype: int64\n",
      "0    196164\n",
      "Name: LOANAGE, dtype: int64\n",
      "0    196164\n",
      "Name: REMMNTHS, dtype: int64\n",
      "0    196164\n",
      "Name: ADJRMTHS, dtype: int64\n",
      "0    196164\n",
      "Name: MATDT, dtype: int64\n",
      "0    196164\n",
      "Name: OLTV, dtype: int64\n",
      "0    196164\n",
      "Name: OCLTV, dtype: int64\n",
      "0    196164\n",
      "Name: NUMBO, dtype: int64\n",
      "0    196164\n",
      "Name: DTI, dtype: int64\n",
      "0    196164\n",
      "Name: CSCOREB, dtype: int64\n",
      "0    196164\n",
      "Name: FIRSTFLAG, dtype: int64\n",
      "0    196164\n",
      "Name: PURPOSE, dtype: int64\n",
      "0    196164\n",
      "Name: PROP, dtype: int64\n",
      "0    196164\n",
      "Name: NO_UNITS, dtype: int64\n",
      "0    196164\n",
      "Name: OCCSTAT, dtype: int64\n",
      "0    196164\n",
      "Name: STATE, dtype: int64\n",
      "0    196164\n",
      "Name: MSA, dtype: int64\n",
      "0    196164\n",
      "Name: ZIP, dtype: int64\n",
      "0    196164\n",
      "Name: IO, dtype: int64\n"
     ]
    }
   ],
   "source": [
    "for col in df.columns:\n",
    "    print(pd.isnull(df[col]).astype(int).value_counts())\n",
    "for col in df2.columns:\n",
    "    print(pd.isnull(df2[col]).astype(int).value_counts())"
   ]
  },
  {
   "cell_type": "markdown",
   "metadata": {},
   "source": [
    "### Check for correlation between predictors and NMONTHS"
   ]
  },
  {
   "cell_type": "code",
   "execution_count": 21,
   "metadata": {},
   "outputs": [
    {
     "name": "stdout",
     "output_type": "stream",
     "text": [
      "ORIGDATE    0.009359\n",
      "FSTPAY      0.012411\n",
      "LOANAGE    -0.011245\n",
      "MATDT       0.011434\n",
      "OLTV       -0.047942\n",
      "DTI        -0.043664\n",
      "CSCOREB    -0.037949\n",
      "NO_UNITS    0.021964\n",
      "Name: NMONTHS, dtype: float64\n",
      "Series([], Name: NMONTHS, dtype: float64)\n"
     ]
    }
   ],
   "source": [
    "corr = df.corr()\n",
    "corr_NMONTHS = corr.NMONTHS\n",
    "buffer = corr_NMONTHS[np.abs(corr_NMONTHS) < 0.05]\n",
    "corr_drop = buffer[(corr_NMONTHS) > 0.95]\n",
    "print(buffer)\n",
    "print(corr_drop)"
   ]
  },
  {
   "cell_type": "markdown",
   "metadata": {},
   "source": [
    "### Drop the low correlation features for NMONTHS"
   ]
  },
  {
   "cell_type": "code",
   "execution_count": 22,
   "metadata": {},
   "outputs": [],
   "source": [
    "df_nm = df.drop(['ORIGDATE','FSTPAY','LOANAGE','MATDT','OLTV','DTI','CSCOREB','NO_UNITS'], axis = 1)\n",
    "df2_nm = df2.drop(['ORIGDATE','FSTPAY','LOANAGE','MATDT','OLTV','DTI','CSCOREB','NO_UNITS'], axis = 1)"
   ]
  },
  {
   "cell_type": "markdown",
   "metadata": {},
   "source": [
    "### Check for correlation between predictors and FORCLOSED"
   ]
  },
  {
   "cell_type": "code",
   "execution_count": 23,
   "metadata": {},
   "outputs": [
    {
     "name": "stdout",
     "output_type": "stream",
     "text": [
      "ORIGTERM    0.031957\n",
      "ORIGDATE    0.004845\n",
      "FSTPAY      0.002715\n",
      "LOANAGE     0.000731\n",
      "REMMNTHS    0.031957\n",
      "ADJRMTHS    0.032275\n",
      "MATDT       0.002885\n",
      "DTI         0.017244\n",
      "NO_UNITS    0.001879\n",
      "MSA        -0.039244\n",
      "ZIP        -0.013894\n",
      "Name: FORCLOSED, dtype: float64\n",
      "Series([], Name: FORCLOSED, dtype: float64)\n"
     ]
    }
   ],
   "source": [
    "corr = df.corr()\n",
    "corr_FORCLOSED = corr.FORCLOSED\n",
    "buffer = corr_FORCLOSED[np.abs(corr_FORCLOSED) < 0.05]\n",
    "corr_drop = buffer[(corr_FORCLOSED) > 0.95]\n",
    "print(buffer)\n",
    "print(corr_drop)"
   ]
  },
  {
   "cell_type": "markdown",
   "metadata": {},
   "source": [
    "### Drop the low correlation features for FORCLOSED"
   ]
  },
  {
   "cell_type": "code",
   "execution_count": 24,
   "metadata": {},
   "outputs": [
    {
     "data": {
      "text/html": [
       "<div>\n",
       "<style scoped>\n",
       "    .dataframe tbody tr th:only-of-type {\n",
       "        vertical-align: middle;\n",
       "    }\n",
       "\n",
       "    .dataframe tbody tr th {\n",
       "        vertical-align: top;\n",
       "    }\n",
       "\n",
       "    .dataframe thead th {\n",
       "        text-align: right;\n",
       "    }\n",
       "</style>\n",
       "<table border=\"1\" class=\"dataframe\">\n",
       "  <thead>\n",
       "    <tr style=\"text-align: right;\">\n",
       "      <th></th>\n",
       "      <th>CHNL</th>\n",
       "      <th>SELLER</th>\n",
       "      <th>ORIGRATE</th>\n",
       "      <th>CURRRATE</th>\n",
       "      <th>ORIGUPB</th>\n",
       "      <th>ORIGDATE</th>\n",
       "      <th>FSTPAY</th>\n",
       "      <th>LOANAGE</th>\n",
       "      <th>MATDT</th>\n",
       "      <th>OLTV</th>\n",
       "      <th>...</th>\n",
       "      <th>CSCOREB</th>\n",
       "      <th>FIRSTFLAG</th>\n",
       "      <th>PURPOSE</th>\n",
       "      <th>PROP</th>\n",
       "      <th>NO_UNITS</th>\n",
       "      <th>OCCSTAT</th>\n",
       "      <th>STATE</th>\n",
       "      <th>IO</th>\n",
       "      <th>NMONTHS</th>\n",
       "      <th>FORCLOSED</th>\n",
       "    </tr>\n",
       "  </thead>\n",
       "  <tbody>\n",
       "    <tr>\n",
       "      <th>0</th>\n",
       "      <td>B</td>\n",
       "      <td>Flagstar Bank, Fsb</td>\n",
       "      <td>6.750</td>\n",
       "      <td>6.750</td>\n",
       "      <td>113000.0</td>\n",
       "      <td>72001</td>\n",
       "      <td>92001</td>\n",
       "      <td>1</td>\n",
       "      <td>82031</td>\n",
       "      <td>95</td>\n",
       "      <td>...</td>\n",
       "      <td>804.0</td>\n",
       "      <td>N</td>\n",
       "      <td>P</td>\n",
       "      <td>CO</td>\n",
       "      <td>1</td>\n",
       "      <td>P</td>\n",
       "      <td>OH</td>\n",
       "      <td>Y</td>\n",
       "      <td>40</td>\n",
       "      <td>False</td>\n",
       "    </tr>\n",
       "    <tr>\n",
       "      <th>1</th>\n",
       "      <td>C</td>\n",
       "      <td>Bank Of America, N.A.</td>\n",
       "      <td>7.375</td>\n",
       "      <td>7.375</td>\n",
       "      <td>156000.0</td>\n",
       "      <td>62001</td>\n",
       "      <td>82001</td>\n",
       "      <td>0</td>\n",
       "      <td>72031</td>\n",
       "      <td>59</td>\n",
       "      <td>...</td>\n",
       "      <td>770.0</td>\n",
       "      <td>N</td>\n",
       "      <td>C</td>\n",
       "      <td>SF</td>\n",
       "      <td>1</td>\n",
       "      <td>P</td>\n",
       "      <td>FL</td>\n",
       "      <td>Y</td>\n",
       "      <td>23</td>\n",
       "      <td>False</td>\n",
       "    </tr>\n",
       "    <tr>\n",
       "      <th>2</th>\n",
       "      <td>R</td>\n",
       "      <td>Bishops Gate Residential Mortgage Trust</td>\n",
       "      <td>7.000</td>\n",
       "      <td>7.000</td>\n",
       "      <td>83000.0</td>\n",
       "      <td>62001</td>\n",
       "      <td>82001</td>\n",
       "      <td>0</td>\n",
       "      <td>72031</td>\n",
       "      <td>79</td>\n",
       "      <td>...</td>\n",
       "      <td>560.0</td>\n",
       "      <td>N</td>\n",
       "      <td>R</td>\n",
       "      <td>CO</td>\n",
       "      <td>1</td>\n",
       "      <td>P</td>\n",
       "      <td>ME</td>\n",
       "      <td>Y</td>\n",
       "      <td>22</td>\n",
       "      <td>False</td>\n",
       "    </tr>\n",
       "    <tr>\n",
       "      <th>3</th>\n",
       "      <td>C</td>\n",
       "      <td>Jpmorgan Chase Bank, Na</td>\n",
       "      <td>7.375</td>\n",
       "      <td>7.375</td>\n",
       "      <td>275000.0</td>\n",
       "      <td>32001</td>\n",
       "      <td>52001</td>\n",
       "      <td>4</td>\n",
       "      <td>42031</td>\n",
       "      <td>74</td>\n",
       "      <td>...</td>\n",
       "      <td>659.0</td>\n",
       "      <td>N</td>\n",
       "      <td>R</td>\n",
       "      <td>SF</td>\n",
       "      <td>1</td>\n",
       "      <td>P</td>\n",
       "      <td>NH</td>\n",
       "      <td>Y</td>\n",
       "      <td>14</td>\n",
       "      <td>False</td>\n",
       "    </tr>\n",
       "    <tr>\n",
       "      <th>4</th>\n",
       "      <td>C</td>\n",
       "      <td>Other</td>\n",
       "      <td>6.875</td>\n",
       "      <td>6.875</td>\n",
       "      <td>203000.0</td>\n",
       "      <td>72001</td>\n",
       "      <td>92001</td>\n",
       "      <td>1</td>\n",
       "      <td>82031</td>\n",
       "      <td>83</td>\n",
       "      <td>...</td>\n",
       "      <td>753.0</td>\n",
       "      <td>N</td>\n",
       "      <td>R</td>\n",
       "      <td>SF</td>\n",
       "      <td>1</td>\n",
       "      <td>P</td>\n",
       "      <td>AZ</td>\n",
       "      <td>Y</td>\n",
       "      <td>16</td>\n",
       "      <td>False</td>\n",
       "    </tr>\n",
       "  </tbody>\n",
       "</table>\n",
       "<p>5 rows × 23 columns</p>\n",
       "</div>"
      ],
      "text/plain": [
       "  CHNL                                   SELLER  ORIGRATE  CURRRATE   ORIGUPB  \\\n",
       "0    B                       Flagstar Bank, Fsb     6.750     6.750  113000.0   \n",
       "1    C                    Bank Of America, N.A.     7.375     7.375  156000.0   \n",
       "2    R  Bishops Gate Residential Mortgage Trust     7.000     7.000   83000.0   \n",
       "3    C                  Jpmorgan Chase Bank, Na     7.375     7.375  275000.0   \n",
       "4    C                                    Other     6.875     6.875  203000.0   \n",
       "\n",
       "   ORIGDATE  FSTPAY  LOANAGE  MATDT  OLTV  ...  CSCOREB  FIRSTFLAG  PURPOSE  \\\n",
       "0     72001   92001        1  82031    95  ...    804.0          N        P   \n",
       "1     62001   82001        0  72031    59  ...    770.0          N        C   \n",
       "2     62001   82001        0  72031    79  ...    560.0          N        R   \n",
       "3     32001   52001        4  42031    74  ...    659.0          N        R   \n",
       "4     72001   92001        1  82031    83  ...    753.0          N        R   \n",
       "\n",
       "   PROP NO_UNITS OCCSTAT STATE  IO NMONTHS FORCLOSED  \n",
       "0    CO        1       P    OH   Y      40     False  \n",
       "1    SF        1       P    FL   Y      23     False  \n",
       "2    CO        1       P    ME   Y      22     False  \n",
       "3    SF        1       P    NH   Y      14     False  \n",
       "4    SF        1       P    AZ   Y      16     False  \n",
       "\n",
       "[5 rows x 23 columns]"
      ]
     },
     "execution_count": 24,
     "metadata": {},
     "output_type": "execute_result"
    }
   ],
   "source": [
    "df_fc = df.drop(['ORIGTERM','REMMNTHS','ADJRMTHS','MSA','ZIP'], axis = 1)\n",
    "df2_fc = df2.drop(['ORIGTERM','REMMNTHS','ADJRMTHS','MSA','ZIP'], axis = 1)\n",
    "df_fc.head()"
   ]
  },
  {
   "cell_type": "markdown",
   "metadata": {},
   "source": [
    "### Convert the categorical variables to dummy variable for NMONTHS"
   ]
  },
  {
   "cell_type": "code",
   "execution_count": 25,
   "metadata": {},
   "outputs": [],
   "source": [
    "CHNL_nm = pd.get_dummies(df_nm[\"CHNL\"], drop_first = True, prefix = \"CHNL\")\n",
    "SELLER_nm = pd.get_dummies(df_nm[\"SELLER\"], drop_first = True, prefix = \"SELLER\")\n",
    "FIRSTFLAG_nm = pd.get_dummies(df_nm[\"FIRSTFLAG\"], drop_first = True, prefix = \"FIRSTFLAG\")\n",
    "PURPOSE_nm = pd.get_dummies(df_nm[\"PURPOSE\"], drop_first = True, prefix = \"PURPOSE\")\n",
    "PROP_nm = pd.get_dummies(df_nm[\"PROP\"], drop_first = True, prefix = \"PROP\")\n",
    "OCCSTAT_nm = pd.get_dummies(df_nm[\"OCCSTAT\"], drop_first = True, prefix = \"OCCSTAT\")\n",
    "STATE_nm = pd.get_dummies(df_nm[\"STATE\"], drop_first = True, prefix = \"STATE\")\n",
    "IO_nm = pd.get_dummies(df_nm[\"IO\"], drop_first = True, prefix = \"IO\")"
   ]
  },
  {
   "cell_type": "code",
   "execution_count": 26,
   "metadata": {},
   "outputs": [
    {
     "data": {
      "text/html": [
       "<div>\n",
       "<style scoped>\n",
       "    .dataframe tbody tr th:only-of-type {\n",
       "        vertical-align: middle;\n",
       "    }\n",
       "\n",
       "    .dataframe tbody tr th {\n",
       "        vertical-align: top;\n",
       "    }\n",
       "\n",
       "    .dataframe thead th {\n",
       "        text-align: right;\n",
       "    }\n",
       "</style>\n",
       "<table border=\"1\" class=\"dataframe\">\n",
       "  <thead>\n",
       "    <tr style=\"text-align: right;\">\n",
       "      <th></th>\n",
       "      <th>ORIGRATE</th>\n",
       "      <th>CURRRATE</th>\n",
       "      <th>ORIGUPB</th>\n",
       "      <th>ORIGTERM</th>\n",
       "      <th>REMMNTHS</th>\n",
       "      <th>ADJRMTHS</th>\n",
       "      <th>OCLTV</th>\n",
       "      <th>NUMBO</th>\n",
       "      <th>MSA</th>\n",
       "      <th>NMONTHS</th>\n",
       "      <th>...</th>\n",
       "      <th>STATE_TX</th>\n",
       "      <th>STATE_UT</th>\n",
       "      <th>STATE_VA</th>\n",
       "      <th>STATE_VI</th>\n",
       "      <th>STATE_VT</th>\n",
       "      <th>STATE_WA</th>\n",
       "      <th>STATE_WI</th>\n",
       "      <th>STATE_WV</th>\n",
       "      <th>STATE_WY</th>\n",
       "      <th>IO_Y</th>\n",
       "    </tr>\n",
       "  </thead>\n",
       "  <tbody>\n",
       "    <tr>\n",
       "      <th>0</th>\n",
       "      <td>6.750</td>\n",
       "      <td>6.750</td>\n",
       "      <td>113000.0</td>\n",
       "      <td>360</td>\n",
       "      <td>359</td>\n",
       "      <td>359</td>\n",
       "      <td>95.0</td>\n",
       "      <td>2.0</td>\n",
       "      <td>19380</td>\n",
       "      <td>40</td>\n",
       "      <td>...</td>\n",
       "      <td>0</td>\n",
       "      <td>0</td>\n",
       "      <td>0</td>\n",
       "      <td>0</td>\n",
       "      <td>0</td>\n",
       "      <td>0</td>\n",
       "      <td>0</td>\n",
       "      <td>0</td>\n",
       "      <td>0</td>\n",
       "      <td>1</td>\n",
       "    </tr>\n",
       "    <tr>\n",
       "      <th>1</th>\n",
       "      <td>7.375</td>\n",
       "      <td>7.375</td>\n",
       "      <td>156000.0</td>\n",
       "      <td>360</td>\n",
       "      <td>360</td>\n",
       "      <td>359</td>\n",
       "      <td>59.0</td>\n",
       "      <td>2.0</td>\n",
       "      <td>0</td>\n",
       "      <td>23</td>\n",
       "      <td>...</td>\n",
       "      <td>0</td>\n",
       "      <td>0</td>\n",
       "      <td>0</td>\n",
       "      <td>0</td>\n",
       "      <td>0</td>\n",
       "      <td>0</td>\n",
       "      <td>0</td>\n",
       "      <td>0</td>\n",
       "      <td>0</td>\n",
       "      <td>1</td>\n",
       "    </tr>\n",
       "    <tr>\n",
       "      <th>2</th>\n",
       "      <td>7.000</td>\n",
       "      <td>7.000</td>\n",
       "      <td>83000.0</td>\n",
       "      <td>360</td>\n",
       "      <td>360</td>\n",
       "      <td>359</td>\n",
       "      <td>79.0</td>\n",
       "      <td>2.0</td>\n",
       "      <td>38860</td>\n",
       "      <td>22</td>\n",
       "      <td>...</td>\n",
       "      <td>0</td>\n",
       "      <td>0</td>\n",
       "      <td>0</td>\n",
       "      <td>0</td>\n",
       "      <td>0</td>\n",
       "      <td>0</td>\n",
       "      <td>0</td>\n",
       "      <td>0</td>\n",
       "      <td>0</td>\n",
       "      <td>1</td>\n",
       "    </tr>\n",
       "    <tr>\n",
       "      <th>3</th>\n",
       "      <td>7.375</td>\n",
       "      <td>7.375</td>\n",
       "      <td>275000.0</td>\n",
       "      <td>360</td>\n",
       "      <td>356</td>\n",
       "      <td>355</td>\n",
       "      <td>74.0</td>\n",
       "      <td>2.0</td>\n",
       "      <td>14460</td>\n",
       "      <td>14</td>\n",
       "      <td>...</td>\n",
       "      <td>0</td>\n",
       "      <td>0</td>\n",
       "      <td>0</td>\n",
       "      <td>0</td>\n",
       "      <td>0</td>\n",
       "      <td>0</td>\n",
       "      <td>0</td>\n",
       "      <td>0</td>\n",
       "      <td>0</td>\n",
       "      <td>1</td>\n",
       "    </tr>\n",
       "    <tr>\n",
       "      <th>4</th>\n",
       "      <td>6.875</td>\n",
       "      <td>6.875</td>\n",
       "      <td>203000.0</td>\n",
       "      <td>360</td>\n",
       "      <td>359</td>\n",
       "      <td>359</td>\n",
       "      <td>83.0</td>\n",
       "      <td>2.0</td>\n",
       "      <td>38060</td>\n",
       "      <td>16</td>\n",
       "      <td>...</td>\n",
       "      <td>0</td>\n",
       "      <td>0</td>\n",
       "      <td>0</td>\n",
       "      <td>0</td>\n",
       "      <td>0</td>\n",
       "      <td>0</td>\n",
       "      <td>0</td>\n",
       "      <td>0</td>\n",
       "      <td>0</td>\n",
       "      <td>1</td>\n",
       "    </tr>\n",
       "  </tbody>\n",
       "</table>\n",
       "<p>5 rows × 92 columns</p>\n",
       "</div>"
      ],
      "text/plain": [
       "   ORIGRATE  CURRRATE   ORIGUPB  ORIGTERM  REMMNTHS  ADJRMTHS  OCLTV  NUMBO  \\\n",
       "0     6.750     6.750  113000.0       360       359       359   95.0    2.0   \n",
       "1     7.375     7.375  156000.0       360       360       359   59.0    2.0   \n",
       "2     7.000     7.000   83000.0       360       360       359   79.0    2.0   \n",
       "3     7.375     7.375  275000.0       360       356       355   74.0    2.0   \n",
       "4     6.875     6.875  203000.0       360       359       359   83.0    2.0   \n",
       "\n",
       "     MSA  NMONTHS  ...  STATE_TX  STATE_UT  STATE_VA  STATE_VI  STATE_VT  \\\n",
       "0  19380       40  ...         0         0         0         0         0   \n",
       "1      0       23  ...         0         0         0         0         0   \n",
       "2  38860       22  ...         0         0         0         0         0   \n",
       "3  14460       14  ...         0         0         0         0         0   \n",
       "4  38060       16  ...         0         0         0         0         0   \n",
       "\n",
       "   STATE_WA  STATE_WI  STATE_WV  STATE_WY  IO_Y  \n",
       "0         0         0         0         0     1  \n",
       "1         0         0         0         0     1  \n",
       "2         0         0         0         0     1  \n",
       "3         0         0         0         0     1  \n",
       "4         0         0         0         0     1  \n",
       "\n",
       "[5 rows x 92 columns]"
      ]
     },
     "execution_count": 26,
     "metadata": {},
     "output_type": "execute_result"
    }
   ],
   "source": [
    "buffer = pd.concat([df_nm, CHNL_nm, SELLER_nm, FIRSTFLAG_nm, PURPOSE_nm, PROP_nm, OCCSTAT_nm, STATE_nm, IO_nm], axis = 1)\n",
    "df_nm = buffer.drop(['CHNL', 'SELLER', 'FIRSTFLAG', 'PURPOSE', 'PROP', 'OCCSTAT', 'STATE','IO'], axis = 1)\n",
    "df_nm = df_nm.drop(['ZIP'], axis = 1)\n",
    "df_nm.head()"
   ]
  },
  {
   "cell_type": "code",
   "execution_count": 27,
   "metadata": {},
   "outputs": [],
   "source": [
    "CHNL_nm2 = pd.get_dummies(df2_nm[\"CHNL\"], drop_first = True, prefix = \"CHNL\")\n",
    "SELLER_nm2 = pd.get_dummies(df2_nm[\"SELLER\"], drop_first = True, prefix = \"SELLER\")\n",
    "FIRSTFLAG_nm2 = pd.get_dummies(df2_nm[\"FIRSTFLAG\"], drop_first = True, prefix = \"FIRSTFLAG\")\n",
    "PURPOSE_nm2 = pd.get_dummies(df2_nm[\"PURPOSE\"], drop_first = True, prefix = \"PURPOSE\")\n",
    "PROP_nm2 = pd.get_dummies(df2_nm[\"PROP\"], drop_first = True, prefix = \"PROP\")\n",
    "OCCSTAT_nm2 = pd.get_dummies(df2_nm[\"OCCSTAT\"], drop_first = True, prefix = \"OCCSTAT\")\n",
    "STATE_nm2 = pd.get_dummies(df2_nm[\"STATE\"], drop_first = True, prefix = \"STATE\")\n",
    "IO_nm2 = pd.get_dummies(df2_nm[\"IO\"], drop_first = True, prefix = \"IO\")"
   ]
  },
  {
   "cell_type": "code",
   "execution_count": 28,
   "metadata": {},
   "outputs": [
    {
     "data": {
      "text/html": [
       "<div>\n",
       "<style scoped>\n",
       "    .dataframe tbody tr th:only-of-type {\n",
       "        vertical-align: middle;\n",
       "    }\n",
       "\n",
       "    .dataframe tbody tr th {\n",
       "        vertical-align: top;\n",
       "    }\n",
       "\n",
       "    .dataframe thead th {\n",
       "        text-align: right;\n",
       "    }\n",
       "</style>\n",
       "<table border=\"1\" class=\"dataframe\">\n",
       "  <thead>\n",
       "    <tr style=\"text-align: right;\">\n",
       "      <th></th>\n",
       "      <th>ORIGRATE</th>\n",
       "      <th>CURRRATE</th>\n",
       "      <th>ORIGUPB</th>\n",
       "      <th>ORIGTERM</th>\n",
       "      <th>REMMNTHS</th>\n",
       "      <th>ADJRMTHS</th>\n",
       "      <th>OCLTV</th>\n",
       "      <th>NUMBO</th>\n",
       "      <th>MSA</th>\n",
       "      <th>CHNL_C</th>\n",
       "      <th>...</th>\n",
       "      <th>STATE_TX</th>\n",
       "      <th>STATE_UT</th>\n",
       "      <th>STATE_VA</th>\n",
       "      <th>STATE_VI</th>\n",
       "      <th>STATE_VT</th>\n",
       "      <th>STATE_WA</th>\n",
       "      <th>STATE_WI</th>\n",
       "      <th>STATE_WV</th>\n",
       "      <th>STATE_WY</th>\n",
       "      <th>IO_Y</th>\n",
       "    </tr>\n",
       "  </thead>\n",
       "  <tbody>\n",
       "    <tr>\n",
       "      <th>0</th>\n",
       "      <td>7.000</td>\n",
       "      <td>7.000</td>\n",
       "      <td>176000.0</td>\n",
       "      <td>360</td>\n",
       "      <td>360</td>\n",
       "      <td>360</td>\n",
       "      <td>95.0</td>\n",
       "      <td>2.0</td>\n",
       "      <td>28140</td>\n",
       "      <td>0</td>\n",
       "      <td>...</td>\n",
       "      <td>0</td>\n",
       "      <td>0</td>\n",
       "      <td>0</td>\n",
       "      <td>0</td>\n",
       "      <td>0</td>\n",
       "      <td>0</td>\n",
       "      <td>0</td>\n",
       "      <td>0</td>\n",
       "      <td>0</td>\n",
       "      <td>1</td>\n",
       "    </tr>\n",
       "    <tr>\n",
       "      <th>1</th>\n",
       "      <td>7.000</td>\n",
       "      <td>7.000</td>\n",
       "      <td>251000.0</td>\n",
       "      <td>360</td>\n",
       "      <td>359</td>\n",
       "      <td>359</td>\n",
       "      <td>80.0</td>\n",
       "      <td>2.0</td>\n",
       "      <td>16980</td>\n",
       "      <td>1</td>\n",
       "      <td>...</td>\n",
       "      <td>0</td>\n",
       "      <td>0</td>\n",
       "      <td>0</td>\n",
       "      <td>0</td>\n",
       "      <td>0</td>\n",
       "      <td>0</td>\n",
       "      <td>0</td>\n",
       "      <td>0</td>\n",
       "      <td>0</td>\n",
       "      <td>1</td>\n",
       "    </tr>\n",
       "    <tr>\n",
       "      <th>2</th>\n",
       "      <td>7.000</td>\n",
       "      <td>7.000</td>\n",
       "      <td>48000.0</td>\n",
       "      <td>180</td>\n",
       "      <td>180</td>\n",
       "      <td>180</td>\n",
       "      <td>80.0</td>\n",
       "      <td>2.0</td>\n",
       "      <td>17860</td>\n",
       "      <td>0</td>\n",
       "      <td>...</td>\n",
       "      <td>0</td>\n",
       "      <td>0</td>\n",
       "      <td>0</td>\n",
       "      <td>0</td>\n",
       "      <td>0</td>\n",
       "      <td>0</td>\n",
       "      <td>0</td>\n",
       "      <td>0</td>\n",
       "      <td>0</td>\n",
       "      <td>1</td>\n",
       "    </tr>\n",
       "    <tr>\n",
       "      <th>3</th>\n",
       "      <td>7.250</td>\n",
       "      <td>7.250</td>\n",
       "      <td>268000.0</td>\n",
       "      <td>360</td>\n",
       "      <td>359</td>\n",
       "      <td>359</td>\n",
       "      <td>80.0</td>\n",
       "      <td>1.0</td>\n",
       "      <td>45300</td>\n",
       "      <td>0</td>\n",
       "      <td>...</td>\n",
       "      <td>0</td>\n",
       "      <td>0</td>\n",
       "      <td>0</td>\n",
       "      <td>0</td>\n",
       "      <td>0</td>\n",
       "      <td>0</td>\n",
       "      <td>0</td>\n",
       "      <td>0</td>\n",
       "      <td>0</td>\n",
       "      <td>1</td>\n",
       "    </tr>\n",
       "    <tr>\n",
       "      <th>4</th>\n",
       "      <td>6.875</td>\n",
       "      <td>6.875</td>\n",
       "      <td>75000.0</td>\n",
       "      <td>180</td>\n",
       "      <td>180</td>\n",
       "      <td>180</td>\n",
       "      <td>95.0</td>\n",
       "      <td>1.0</td>\n",
       "      <td>26900</td>\n",
       "      <td>0</td>\n",
       "      <td>...</td>\n",
       "      <td>0</td>\n",
       "      <td>0</td>\n",
       "      <td>0</td>\n",
       "      <td>0</td>\n",
       "      <td>0</td>\n",
       "      <td>0</td>\n",
       "      <td>0</td>\n",
       "      <td>0</td>\n",
       "      <td>0</td>\n",
       "      <td>1</td>\n",
       "    </tr>\n",
       "  </tbody>\n",
       "</table>\n",
       "<p>5 rows × 90 columns</p>\n",
       "</div>"
      ],
      "text/plain": [
       "   ORIGRATE  CURRRATE   ORIGUPB  ORIGTERM  REMMNTHS  ADJRMTHS  OCLTV  NUMBO  \\\n",
       "0     7.000     7.000  176000.0       360       360       360   95.0    2.0   \n",
       "1     7.000     7.000  251000.0       360       359       359   80.0    2.0   \n",
       "2     7.000     7.000   48000.0       180       180       180   80.0    2.0   \n",
       "3     7.250     7.250  268000.0       360       359       359   80.0    1.0   \n",
       "4     6.875     6.875   75000.0       180       180       180   95.0    1.0   \n",
       "\n",
       "     MSA  CHNL_C  ...  STATE_TX  STATE_UT  STATE_VA  STATE_VI  STATE_VT  \\\n",
       "0  28140       0  ...         0         0         0         0         0   \n",
       "1  16980       1  ...         0         0         0         0         0   \n",
       "2  17860       0  ...         0         0         0         0         0   \n",
       "3  45300       0  ...         0         0         0         0         0   \n",
       "4  26900       0  ...         0         0         0         0         0   \n",
       "\n",
       "   STATE_WA  STATE_WI  STATE_WV  STATE_WY  IO_Y  \n",
       "0         0         0         0         0     1  \n",
       "1         0         0         0         0     1  \n",
       "2         0         0         0         0     1  \n",
       "3         0         0         0         0     1  \n",
       "4         0         0         0         0     1  \n",
       "\n",
       "[5 rows x 90 columns]"
      ]
     },
     "execution_count": 28,
     "metadata": {},
     "output_type": "execute_result"
    }
   ],
   "source": [
    "buffer = pd.concat([df2_nm, CHNL_nm2, SELLER_nm2, FIRSTFLAG_nm2, PURPOSE_nm2, PROP_nm2, OCCSTAT_nm2, STATE_nm2, IO_nm2], axis = 1)\n",
    "df2_nm = buffer.drop(['CHNL', 'SELLER', 'FIRSTFLAG', 'PURPOSE', 'PROP', 'OCCSTAT', 'STATE','IO'], axis = 1)\n",
    "df2_nm = df2_nm.drop(['ZIP'], axis = 1)\n",
    "df2_nm.head()"
   ]
  },
  {
   "cell_type": "markdown",
   "metadata": {},
   "source": [
    "### Convert the categorical variables to dummy variable for FORCLOSED"
   ]
  },
  {
   "cell_type": "code",
   "execution_count": 29,
   "metadata": {},
   "outputs": [],
   "source": [
    "CHNL_fc = pd.get_dummies(df_fc[\"CHNL\"], drop_first = True, prefix = \"CHNL\")\n",
    "SELLER_fc = pd.get_dummies(df_fc[\"SELLER\"], drop_first = True, prefix = \"SELLER\")\n",
    "FIRSTFLAG_fc = pd.get_dummies(df_fc[\"FIRSTFLAG\"], drop_first = True, prefix = \"FIRSTFLAG\")\n",
    "PURPOSE_fc = pd.get_dummies(df_fc[\"PURPOSE\"], drop_first = True, prefix = \"PURPOSE\")\n",
    "PROP_fc = pd.get_dummies(df_fc[\"PROP\"], drop_first = True, prefix = \"PROP\")\n",
    "OCCSTAT_fc = pd.get_dummies(df_fc[\"OCCSTAT\"], drop_first = True, prefix = \"OCCSTAT\")\n",
    "STATE_fc = pd.get_dummies(df_fc[\"STATE\"], drop_first = True, prefix = \"STATE\")\n",
    "IO_fc = pd.get_dummies(df_fc[\"IO\"], drop_first = True, prefix = \"IO\")"
   ]
  },
  {
   "cell_type": "code",
   "execution_count": 30,
   "metadata": {},
   "outputs": [
    {
     "data": {
      "text/html": [
       "<div>\n",
       "<style scoped>\n",
       "    .dataframe tbody tr th:only-of-type {\n",
       "        vertical-align: middle;\n",
       "    }\n",
       "\n",
       "    .dataframe tbody tr th {\n",
       "        vertical-align: top;\n",
       "    }\n",
       "\n",
       "    .dataframe thead th {\n",
       "        text-align: right;\n",
       "    }\n",
       "</style>\n",
       "<table border=\"1\" class=\"dataframe\">\n",
       "  <thead>\n",
       "    <tr style=\"text-align: right;\">\n",
       "      <th></th>\n",
       "      <th>ORIGRATE</th>\n",
       "      <th>CURRRATE</th>\n",
       "      <th>ORIGUPB</th>\n",
       "      <th>ORIGDATE</th>\n",
       "      <th>FSTPAY</th>\n",
       "      <th>LOANAGE</th>\n",
       "      <th>MATDT</th>\n",
       "      <th>OLTV</th>\n",
       "      <th>OCLTV</th>\n",
       "      <th>NUMBO</th>\n",
       "      <th>...</th>\n",
       "      <th>STATE_TX</th>\n",
       "      <th>STATE_UT</th>\n",
       "      <th>STATE_VA</th>\n",
       "      <th>STATE_VI</th>\n",
       "      <th>STATE_VT</th>\n",
       "      <th>STATE_WA</th>\n",
       "      <th>STATE_WI</th>\n",
       "      <th>STATE_WV</th>\n",
       "      <th>STATE_WY</th>\n",
       "      <th>IO_Y</th>\n",
       "    </tr>\n",
       "  </thead>\n",
       "  <tbody>\n",
       "    <tr>\n",
       "      <th>0</th>\n",
       "      <td>6.750</td>\n",
       "      <td>6.750</td>\n",
       "      <td>113000.0</td>\n",
       "      <td>72001</td>\n",
       "      <td>92001</td>\n",
       "      <td>1</td>\n",
       "      <td>82031</td>\n",
       "      <td>95</td>\n",
       "      <td>95.0</td>\n",
       "      <td>2.0</td>\n",
       "      <td>...</td>\n",
       "      <td>0</td>\n",
       "      <td>0</td>\n",
       "      <td>0</td>\n",
       "      <td>0</td>\n",
       "      <td>0</td>\n",
       "      <td>0</td>\n",
       "      <td>0</td>\n",
       "      <td>0</td>\n",
       "      <td>0</td>\n",
       "      <td>1</td>\n",
       "    </tr>\n",
       "    <tr>\n",
       "      <th>1</th>\n",
       "      <td>7.375</td>\n",
       "      <td>7.375</td>\n",
       "      <td>156000.0</td>\n",
       "      <td>62001</td>\n",
       "      <td>82001</td>\n",
       "      <td>0</td>\n",
       "      <td>72031</td>\n",
       "      <td>59</td>\n",
       "      <td>59.0</td>\n",
       "      <td>2.0</td>\n",
       "      <td>...</td>\n",
       "      <td>0</td>\n",
       "      <td>0</td>\n",
       "      <td>0</td>\n",
       "      <td>0</td>\n",
       "      <td>0</td>\n",
       "      <td>0</td>\n",
       "      <td>0</td>\n",
       "      <td>0</td>\n",
       "      <td>0</td>\n",
       "      <td>1</td>\n",
       "    </tr>\n",
       "    <tr>\n",
       "      <th>2</th>\n",
       "      <td>7.000</td>\n",
       "      <td>7.000</td>\n",
       "      <td>83000.0</td>\n",
       "      <td>62001</td>\n",
       "      <td>82001</td>\n",
       "      <td>0</td>\n",
       "      <td>72031</td>\n",
       "      <td>79</td>\n",
       "      <td>79.0</td>\n",
       "      <td>2.0</td>\n",
       "      <td>...</td>\n",
       "      <td>0</td>\n",
       "      <td>0</td>\n",
       "      <td>0</td>\n",
       "      <td>0</td>\n",
       "      <td>0</td>\n",
       "      <td>0</td>\n",
       "      <td>0</td>\n",
       "      <td>0</td>\n",
       "      <td>0</td>\n",
       "      <td>1</td>\n",
       "    </tr>\n",
       "    <tr>\n",
       "      <th>3</th>\n",
       "      <td>7.375</td>\n",
       "      <td>7.375</td>\n",
       "      <td>275000.0</td>\n",
       "      <td>32001</td>\n",
       "      <td>52001</td>\n",
       "      <td>4</td>\n",
       "      <td>42031</td>\n",
       "      <td>74</td>\n",
       "      <td>74.0</td>\n",
       "      <td>2.0</td>\n",
       "      <td>...</td>\n",
       "      <td>0</td>\n",
       "      <td>0</td>\n",
       "      <td>0</td>\n",
       "      <td>0</td>\n",
       "      <td>0</td>\n",
       "      <td>0</td>\n",
       "      <td>0</td>\n",
       "      <td>0</td>\n",
       "      <td>0</td>\n",
       "      <td>1</td>\n",
       "    </tr>\n",
       "    <tr>\n",
       "      <th>4</th>\n",
       "      <td>6.875</td>\n",
       "      <td>6.875</td>\n",
       "      <td>203000.0</td>\n",
       "      <td>72001</td>\n",
       "      <td>92001</td>\n",
       "      <td>1</td>\n",
       "      <td>82031</td>\n",
       "      <td>83</td>\n",
       "      <td>83.0</td>\n",
       "      <td>2.0</td>\n",
       "      <td>...</td>\n",
       "      <td>0</td>\n",
       "      <td>0</td>\n",
       "      <td>0</td>\n",
       "      <td>0</td>\n",
       "      <td>0</td>\n",
       "      <td>0</td>\n",
       "      <td>0</td>\n",
       "      <td>0</td>\n",
       "      <td>0</td>\n",
       "      <td>1</td>\n",
       "    </tr>\n",
       "  </tbody>\n",
       "</table>\n",
       "<p>5 rows × 96 columns</p>\n",
       "</div>"
      ],
      "text/plain": [
       "   ORIGRATE  CURRRATE   ORIGUPB  ORIGDATE  FSTPAY  LOANAGE  MATDT  OLTV  \\\n",
       "0     6.750     6.750  113000.0     72001   92001        1  82031    95   \n",
       "1     7.375     7.375  156000.0     62001   82001        0  72031    59   \n",
       "2     7.000     7.000   83000.0     62001   82001        0  72031    79   \n",
       "3     7.375     7.375  275000.0     32001   52001        4  42031    74   \n",
       "4     6.875     6.875  203000.0     72001   92001        1  82031    83   \n",
       "\n",
       "   OCLTV  NUMBO  ...  STATE_TX  STATE_UT  STATE_VA  STATE_VI  STATE_VT  \\\n",
       "0   95.0    2.0  ...         0         0         0         0         0   \n",
       "1   59.0    2.0  ...         0         0         0         0         0   \n",
       "2   79.0    2.0  ...         0         0         0         0         0   \n",
       "3   74.0    2.0  ...         0         0         0         0         0   \n",
       "4   83.0    2.0  ...         0         0         0         0         0   \n",
       "\n",
       "   STATE_WA  STATE_WI  STATE_WV  STATE_WY  IO_Y  \n",
       "0         0         0         0         0     1  \n",
       "1         0         0         0         0     1  \n",
       "2         0         0         0         0     1  \n",
       "3         0         0         0         0     1  \n",
       "4         0         0         0         0     1  \n",
       "\n",
       "[5 rows x 96 columns]"
      ]
     },
     "execution_count": 30,
     "metadata": {},
     "output_type": "execute_result"
    }
   ],
   "source": [
    "buffer = pd.concat([df_fc, CHNL_fc, SELLER_fc, FIRSTFLAG_fc, PURPOSE_fc, PROP_fc, OCCSTAT_fc, STATE_fc,IO_fc], axis = 1)\n",
    "df_fc = buffer.drop(['CHNL', 'SELLER', 'FIRSTFLAG', 'PURPOSE', 'PROP', 'OCCSTAT', 'STATE','IO'], axis = 1)\n",
    "df_fc.head()"
   ]
  },
  {
   "cell_type": "code",
   "execution_count": 31,
   "metadata": {},
   "outputs": [],
   "source": [
    "CHNL_fc2 = pd.get_dummies(df2_fc[\"CHNL\"], drop_first = True, prefix = \"CHNL\")\n",
    "SELLER_fc2 = pd.get_dummies(df2_fc[\"SELLER\"], drop_first = True, prefix = \"SELLER\")\n",
    "FIRSTFLAG_fc2 = pd.get_dummies(df2_fc[\"FIRSTFLAG\"], drop_first = True, prefix = \"FIRSTFLAG\")\n",
    "PURPOSE_fc2 = pd.get_dummies(df2_fc[\"PURPOSE\"], drop_first = True, prefix = \"PURPOSE\")\n",
    "PROP_fc2 = pd.get_dummies(df2_fc[\"PROP\"], drop_first = True, prefix = \"PROP\")\n",
    "OCCSTAT_fc2 = pd.get_dummies(df2_fc[\"OCCSTAT\"], drop_first = True, prefix = \"OCCSTAT\")\n",
    "STATE_fc2 = pd.get_dummies(df2_fc[\"STATE\"], drop_first = True, prefix = \"STATE\")\n",
    "IO_fc2 = pd.get_dummies(df2_fc[\"IO\"], drop_first = True, prefix = \"IO\")"
   ]
  },
  {
   "cell_type": "code",
   "execution_count": 32,
   "metadata": {},
   "outputs": [
    {
     "data": {
      "text/html": [
       "<div>\n",
       "<style scoped>\n",
       "    .dataframe tbody tr th:only-of-type {\n",
       "        vertical-align: middle;\n",
       "    }\n",
       "\n",
       "    .dataframe tbody tr th {\n",
       "        vertical-align: top;\n",
       "    }\n",
       "\n",
       "    .dataframe thead th {\n",
       "        text-align: right;\n",
       "    }\n",
       "</style>\n",
       "<table border=\"1\" class=\"dataframe\">\n",
       "  <thead>\n",
       "    <tr style=\"text-align: right;\">\n",
       "      <th></th>\n",
       "      <th>ORIGRATE</th>\n",
       "      <th>CURRRATE</th>\n",
       "      <th>ORIGUPB</th>\n",
       "      <th>ORIGDATE</th>\n",
       "      <th>FSTPAY</th>\n",
       "      <th>LOANAGE</th>\n",
       "      <th>MATDT</th>\n",
       "      <th>OLTV</th>\n",
       "      <th>OCLTV</th>\n",
       "      <th>NUMBO</th>\n",
       "      <th>...</th>\n",
       "      <th>STATE_TX</th>\n",
       "      <th>STATE_UT</th>\n",
       "      <th>STATE_VA</th>\n",
       "      <th>STATE_VI</th>\n",
       "      <th>STATE_VT</th>\n",
       "      <th>STATE_WA</th>\n",
       "      <th>STATE_WI</th>\n",
       "      <th>STATE_WV</th>\n",
       "      <th>STATE_WY</th>\n",
       "      <th>IO_Y</th>\n",
       "    </tr>\n",
       "  </thead>\n",
       "  <tbody>\n",
       "    <tr>\n",
       "      <th>0</th>\n",
       "      <td>7.000</td>\n",
       "      <td>7.000</td>\n",
       "      <td>176000.0</td>\n",
       "      <td>72001</td>\n",
       "      <td>82001</td>\n",
       "      <td>0</td>\n",
       "      <td>72031</td>\n",
       "      <td>95</td>\n",
       "      <td>95.0</td>\n",
       "      <td>2.0</td>\n",
       "      <td>...</td>\n",
       "      <td>0</td>\n",
       "      <td>0</td>\n",
       "      <td>0</td>\n",
       "      <td>0</td>\n",
       "      <td>0</td>\n",
       "      <td>0</td>\n",
       "      <td>0</td>\n",
       "      <td>0</td>\n",
       "      <td>0</td>\n",
       "      <td>1</td>\n",
       "    </tr>\n",
       "    <tr>\n",
       "      <th>1</th>\n",
       "      <td>7.000</td>\n",
       "      <td>7.000</td>\n",
       "      <td>251000.0</td>\n",
       "      <td>62001</td>\n",
       "      <td>82001</td>\n",
       "      <td>1</td>\n",
       "      <td>72031</td>\n",
       "      <td>80</td>\n",
       "      <td>80.0</td>\n",
       "      <td>2.0</td>\n",
       "      <td>...</td>\n",
       "      <td>0</td>\n",
       "      <td>0</td>\n",
       "      <td>0</td>\n",
       "      <td>0</td>\n",
       "      <td>0</td>\n",
       "      <td>0</td>\n",
       "      <td>0</td>\n",
       "      <td>0</td>\n",
       "      <td>0</td>\n",
       "      <td>1</td>\n",
       "    </tr>\n",
       "    <tr>\n",
       "      <th>2</th>\n",
       "      <td>7.000</td>\n",
       "      <td>7.000</td>\n",
       "      <td>48000.0</td>\n",
       "      <td>62001</td>\n",
       "      <td>82001</td>\n",
       "      <td>0</td>\n",
       "      <td>72016</td>\n",
       "      <td>80</td>\n",
       "      <td>80.0</td>\n",
       "      <td>2.0</td>\n",
       "      <td>...</td>\n",
       "      <td>0</td>\n",
       "      <td>0</td>\n",
       "      <td>0</td>\n",
       "      <td>0</td>\n",
       "      <td>0</td>\n",
       "      <td>0</td>\n",
       "      <td>0</td>\n",
       "      <td>0</td>\n",
       "      <td>0</td>\n",
       "      <td>1</td>\n",
       "    </tr>\n",
       "    <tr>\n",
       "      <th>3</th>\n",
       "      <td>7.250</td>\n",
       "      <td>7.250</td>\n",
       "      <td>268000.0</td>\n",
       "      <td>62001</td>\n",
       "      <td>82001</td>\n",
       "      <td>1</td>\n",
       "      <td>72031</td>\n",
       "      <td>80</td>\n",
       "      <td>80.0</td>\n",
       "      <td>1.0</td>\n",
       "      <td>...</td>\n",
       "      <td>0</td>\n",
       "      <td>0</td>\n",
       "      <td>0</td>\n",
       "      <td>0</td>\n",
       "      <td>0</td>\n",
       "      <td>0</td>\n",
       "      <td>0</td>\n",
       "      <td>0</td>\n",
       "      <td>0</td>\n",
       "      <td>1</td>\n",
       "    </tr>\n",
       "    <tr>\n",
       "      <th>4</th>\n",
       "      <td>6.875</td>\n",
       "      <td>6.875</td>\n",
       "      <td>75000.0</td>\n",
       "      <td>82001</td>\n",
       "      <td>102001</td>\n",
       "      <td>0</td>\n",
       "      <td>92016</td>\n",
       "      <td>95</td>\n",
       "      <td>95.0</td>\n",
       "      <td>1.0</td>\n",
       "      <td>...</td>\n",
       "      <td>0</td>\n",
       "      <td>0</td>\n",
       "      <td>0</td>\n",
       "      <td>0</td>\n",
       "      <td>0</td>\n",
       "      <td>0</td>\n",
       "      <td>0</td>\n",
       "      <td>0</td>\n",
       "      <td>0</td>\n",
       "      <td>1</td>\n",
       "    </tr>\n",
       "  </tbody>\n",
       "</table>\n",
       "<p>5 rows × 94 columns</p>\n",
       "</div>"
      ],
      "text/plain": [
       "   ORIGRATE  CURRRATE   ORIGUPB  ORIGDATE  FSTPAY  LOANAGE  MATDT  OLTV  \\\n",
       "0     7.000     7.000  176000.0     72001   82001        0  72031    95   \n",
       "1     7.000     7.000  251000.0     62001   82001        1  72031    80   \n",
       "2     7.000     7.000   48000.0     62001   82001        0  72016    80   \n",
       "3     7.250     7.250  268000.0     62001   82001        1  72031    80   \n",
       "4     6.875     6.875   75000.0     82001  102001        0  92016    95   \n",
       "\n",
       "   OCLTV  NUMBO  ...  STATE_TX  STATE_UT  STATE_VA  STATE_VI  STATE_VT  \\\n",
       "0   95.0    2.0  ...         0         0         0         0         0   \n",
       "1   80.0    2.0  ...         0         0         0         0         0   \n",
       "2   80.0    2.0  ...         0         0         0         0         0   \n",
       "3   80.0    1.0  ...         0         0         0         0         0   \n",
       "4   95.0    1.0  ...         0         0         0         0         0   \n",
       "\n",
       "   STATE_WA  STATE_WI  STATE_WV  STATE_WY  IO_Y  \n",
       "0         0         0         0         0     1  \n",
       "1         0         0         0         0     1  \n",
       "2         0         0         0         0     1  \n",
       "3         0         0         0         0     1  \n",
       "4         0         0         0         0     1  \n",
       "\n",
       "[5 rows x 94 columns]"
      ]
     },
     "execution_count": 32,
     "metadata": {},
     "output_type": "execute_result"
    }
   ],
   "source": [
    "buffer = pd.concat([df2_fc, CHNL_fc2, SELLER_fc2, FIRSTFLAG_fc2, PURPOSE_fc2, PROP_fc2, OCCSTAT_fc2, STATE_fc2,IO_fc2], axis = 1)\n",
    "df2_fc = buffer.drop(['CHNL', 'SELLER', 'FIRSTFLAG', 'PURPOSE', 'PROP', 'OCCSTAT', 'STATE','IO'], axis = 1)\n",
    "df2_fc.head()"
   ]
  },
  {
   "cell_type": "markdown",
   "metadata": {},
   "source": [
    "## Part 2: Fitting model"
   ]
  },
  {
   "cell_type": "markdown",
   "metadata": {},
   "source": [
    "### 2.a NMONTHS models"
   ]
  },
  {
   "cell_type": "code",
   "execution_count": 33,
   "metadata": {},
   "outputs": [],
   "source": [
    "xnm = df_nm.drop(['NMONTHS', 'FORCLOSED'], axis = 1)\n",
    "ynm = df_nm['NMONTHS']"
   ]
  },
  {
   "cell_type": "code",
   "execution_count": 34,
   "metadata": {},
   "outputs": [],
   "source": [
    "from sklearn.model_selection import train_test_split\n",
    "xnmtr,xnmts,ynmtr,ynmts = train_test_split(xnm, ynm, train_size = .75, shuffle = False)"
   ]
  },
  {
   "cell_type": "markdown",
   "metadata": {},
   "source": [
    "### Linear Regression"
   ]
  },
  {
   "cell_type": "code",
   "execution_count": 35,
   "metadata": {},
   "outputs": [],
   "source": [
    "from sklearn.linear_model import LinearRegression\n",
    "nmlr = LinearRegression().fit(xnmtr, ynmtr)\n",
    "ynmlred = nmlr.predict(xnmts)"
   ]
  },
  {
   "cell_type": "code",
   "execution_count": 36,
   "metadata": {},
   "outputs": [
    {
     "data": {
      "text/plain": [
       "12.444721975556526"
      ]
     },
     "execution_count": 36,
     "metadata": {},
     "output_type": "execute_result"
    }
   ],
   "source": [
    "mad_nmlr = sum(abs(ynmlred - ynmts))/len(ynmts)\n",
    "mad_nmlr"
   ]
  },
  {
   "cell_type": "code",
   "execution_count": 37,
   "metadata": {},
   "outputs": [
    {
     "data": {
      "image/png": "[encoded data removed]",
      "text/plain": [
       "<Figure size 432x288 with 1 Axes>"
      ]
     },
     "metadata": {
      "needs_background": "light"
     },
     "output_type": "display_data"
    }
   ],
   "source": [
    "%matplotlib inline\n",
    "lineStart = 0\n",
    "lineEnd = 250\n",
    "\n",
    "plt.scatter(ynmts, ynmlred, s = 2)\n",
    "plt.plot([lineStart, lineEnd], [lineStart, lineEnd], \"k-\", color = \"r\")\n",
    "plt.xlim(lineStart, lineEnd)\n",
    "plt.ylim(lineStart, lineEnd)\n",
    "plt.show()"
   ]
  },
  {
   "cell_type": "code",
   "execution_count": 38,
   "metadata": {},
   "outputs": [
    {
     "data": {
      "text/plain": [
       "0.7647509973051492"
      ]
     },
     "execution_count": 38,
     "metadata": {},
     "output_type": "execute_result"
    }
   ],
   "source": [
    "from sklearn.metrics import r2_score\n",
    "r2lr = r2_score(ynmts, ynmlred)\n",
    "r2lr"
   ]
  },
  {
   "cell_type": "markdown",
   "metadata": {},
   "source": [
    "The MAD and R2 are above"
   ]
  },
  {
   "cell_type": "markdown",
   "metadata": {},
   "source": [
    "### Ridge Regression"
   ]
  },
  {
   "cell_type": "code",
   "execution_count": 39,
   "metadata": {},
   "outputs": [
    {
     "name": "stdout",
     "output_type": "stream",
     "text": [
      "12.446124459145116\n",
      "0.764737956537393\n"
     ]
    }
   ],
   "source": [
    "from sklearn.linear_model import Ridge,RidgeCV\n",
    "from sklearn.metrics import r2_score\n",
    "\n",
    "#Checking different alphas for fitting\n",
    "alphas = [0.001,0.01,0.1,1,10,100,1000]\n",
    "#Cross validation in ridge regression\n",
    "ridge_cv = RidgeCV(alphas = alphas, normalize=True, scoring='neg_mean_squared_error', cv = 10)\n",
    "ridge_cv.fit(xnmtr, ynmtr)\n",
    "#Get the best Alpha for model\n",
    "nmrr = Ridge(alpha = ridge_cv.alpha_, normalize=True)\n",
    "nmrr.fit(xnmtr, ynmtr)\n",
    "ynmrred = nmrr.predict(xnmts)\n",
    "#Calculate MAD\n",
    "mad_nmrr = sum(abs(ynmrred - ynmts))/len(ynmts)\n",
    "print(mad_nmrr)\n",
    "#Calculate R2\n",
    "r2rr = r2_score(ynmts, ynmrred)\n",
    "print(r2rr)"
   ]
  },
  {
   "cell_type": "markdown",
   "metadata": {},
   "source": [
    "The MAD and R2 are above"
   ]
  },
  {
   "cell_type": "markdown",
   "metadata": {},
   "source": [
    "### LASSO"
   ]
  },
  {
   "cell_type": "code",
   "execution_count": 40,
   "metadata": {},
   "outputs": [
    {
     "name": "stdout",
     "output_type": "stream",
     "text": [
      "12.684780732557618\n",
      "0.7581779725162698\n"
     ]
    }
   ],
   "source": [
    "from sklearn.linear_model import Lasso,LassoCV\n",
    "#Checking different alphas for fitting\n",
    "alphas = [0.001,0.01,0.1,1,10,100,1000]\n",
    "#Cross validation in lasso regression\n",
    "lasso_cv = LassoCV(alphas = alphas, normalize=True, cv = 10, max_iter=10000)\n",
    "lasso_cv.fit(xnmtr, ynmtr)\n",
    "#Get the best Alpha for model\n",
    "nmla = Lasso(alpha = lasso_cv.alpha_, normalize=True, max_iter=10000)\n",
    "nmla.fit(xnmtr, ynmtr)\n",
    "#Calculate MAD\n",
    "ynmlaed = nmla.predict(xnmts)\n",
    "mad_nmla = sum(abs(ynmlaed - ynmts))/len(ynmts)\n",
    "print(mad_nmla)\n",
    "# Calculate R2_score\n",
    "r2la = r2_score(ynmts, ynmlaed)\n",
    "print(r2la)"
   ]
  },
  {
   "cell_type": "markdown",
   "metadata": {},
   "source": [
    "The MAD and R2 are above"
   ]
  },
  {
   "cell_type": "markdown",
   "metadata": {},
   "source": [
    "From the NMONTHS model, since our objective is to choose the best MAD which is the lowest, so choose linear regression as our best model"
   ]
  },
  {
   "cell_type": "markdown",
   "metadata": {},
   "source": [
    "### 2.b FORCLOSED models"
   ]
  },
  {
   "cell_type": "code",
   "execution_count": 41,
   "metadata": {},
   "outputs": [],
   "source": [
    "xfc = df_fc.drop(['NMONTHS', 'FORCLOSED'], axis = 1)\n",
    "yfc = df_fc[\"FORCLOSED\"]\n",
    "xfctr,xfcts,yfctr,yfcts = train_test_split(xfc, yfc, train_size = .75, shuffle = False)"
   ]
  },
  {
   "cell_type": "markdown",
   "metadata": {},
   "source": [
    "Since the FORCLOSED variable has imbalanced value entry so we need to undersample to deal with this issue"
   ]
  },
  {
   "cell_type": "code",
   "execution_count": 42,
   "metadata": {},
   "outputs": [],
   "source": [
    "from imblearn.under_sampling import RandomUnderSampler \n",
    "undersample = RandomUnderSampler(sampling_strategy = .75, random_state = 10)\n",
    "xfctr2, yfctr2 = undersample.fit_sample(xfctr, yfctr)"
   ]
  },
  {
   "cell_type": "markdown",
   "metadata": {},
   "source": [
    "### Logistic Regression"
   ]
  },
  {
   "cell_type": "code",
   "execution_count": 43,
   "metadata": {},
   "outputs": [],
   "source": [
    "from sklearn.linear_model import LogisticRegression\n",
    "fxlr = LogisticRegression().fit(xfctr2, yfctr2)\n",
    "fclred = fxlr.predict(xfcts)"
   ]
  },
  {
   "cell_type": "code",
   "execution_count": 44,
   "metadata": {},
   "outputs": [
    {
     "data": {
      "text/plain": [
       "array([[  1028,    448],\n",
       "       [ 31694, 113953]], dtype=int64)"
      ]
     },
     "execution_count": 44,
     "metadata": {},
     "output_type": "execute_result"
    }
   ],
   "source": [
    "# Draw confusion mitrix\n",
    "from sklearn.metrics import confusion_matrix\n",
    "\n",
    "cm = confusion_matrix(yfcts, fclred, labels = [1,0])\n",
    "cm"
   ]
  },
  {
   "cell_type": "code",
   "execution_count": 45,
   "metadata": {},
   "outputs": [
    {
     "name": "stdout",
     "output_type": "stream",
     "text": [
      "fpr\n",
      "0.32189973614775724\n",
      "tpr\n",
      "0.7823916730176386\n"
     ]
    }
   ],
   "source": [
    "# fpr tpr\n",
    "fpr = 488/(488+1028)\n",
    "print(\"fpr\")\n",
    "print(fpr)\n",
    "\n",
    "tpr = 113953/(31694 +113953)\n",
    "print(\"tpr\")\n",
    "print(tpr)"
   ]
  },
  {
   "cell_type": "code",
   "execution_count": 46,
   "metadata": {},
   "outputs": [
    {
     "data": {
      "image/png": "[encoded data removed]",
      "text/plain": [
       "<Figure size 432x288 with 1 Axes>"
      ]
     },
     "metadata": {
      "needs_background": "light"
     },
     "output_type": "display_data"
    }
   ],
   "source": [
    "#ROC curve\n",
    "from sklearn.metrics import roc_curve\n",
    "\n",
    "fpr, tpr, threshold = roc_curve(yfcts, fxlr.predict_proba(xfcts)[:,1])\n",
    "plt.figure()\n",
    "plt.plot(fpr, tpr)\n",
    "plt.plot([0, 1], [0, 1],'r--')\n",
    "plt.xlim([0.0, 1.0])\n",
    "plt.ylim([0.0, 1.05])\n",
    "plt.show()"
   ]
  },
  {
   "cell_type": "markdown",
   "metadata": {},
   "source": [
    "### Gaussian Naive Bayes"
   ]
  },
  {
   "cell_type": "code",
   "execution_count": 47,
   "metadata": {},
   "outputs": [],
   "source": [
    "from sklearn.naive_bayes import GaussianNB\n",
    "fxgnb = GaussianNB().fit(xfctr2, yfctr2)\n",
    "fcgnbed = fxgnb.predict(xfcts)"
   ]
  },
  {
   "cell_type": "code",
   "execution_count": 48,
   "metadata": {},
   "outputs": [
    {
     "data": {
      "text/plain": [
       "array([[ 1194,   282],\n",
       "       [49068, 96579]], dtype=int64)"
      ]
     },
     "execution_count": 48,
     "metadata": {},
     "output_type": "execute_result"
    }
   ],
   "source": [
    "# Draw confusion mitrix\n",
    "cm = confusion_matrix(yfcts, fcgnbed, labels = [1,0])\n",
    "cm"
   ]
  },
  {
   "cell_type": "code",
   "execution_count": 49,
   "metadata": {},
   "outputs": [
    {
     "name": "stdout",
     "output_type": "stream",
     "text": [
      "fpr\n",
      "0.1910569105691057\n",
      "tpr\n",
      "0.6631032565037385\n"
     ]
    }
   ],
   "source": [
    "# fpr tpr\n",
    "fpr = 282/(282+1194)\n",
    "print(\"fpr\")\n",
    "print(fpr)\n",
    "\n",
    "tpr = 96579/(96579 +49068)\n",
    "print(\"tpr\")\n",
    "print(tpr)"
   ]
  },
  {
   "cell_type": "code",
   "execution_count": 50,
   "metadata": {},
   "outputs": [
    {
     "data": {
      "image/png": "[encoded data removed]",
      "text/plain": [
       "<Figure size 432x288 with 1 Axes>"
      ]
     },
     "metadata": {
      "needs_background": "light"
     },
     "output_type": "display_data"
    }
   ],
   "source": [
    "fpr, tpr, threshold = roc_curve(yfcts, fxgnb.predict_proba(xfcts)[:,1])\n",
    "plt.figure()\n",
    "plt.plot(fpr, tpr)\n",
    "plt.plot([0, 1], [0, 1],'r--')\n",
    "plt.xlim([0.0, 1.0])\n",
    "plt.ylim([0.0, 1.05])\n",
    "plt.show()"
   ]
  },
  {
   "cell_type": "markdown",
   "metadata": {},
   "source": [
    "###  Decision Tree"
   ]
  },
  {
   "cell_type": "code",
   "execution_count": 51,
   "metadata": {},
   "outputs": [],
   "source": [
    "from sklearn.tree import DecisionTreeClassifier\n",
    "fxdt = DecisionTreeClassifier().fit(xfctr2, yfctr2)\n",
    "fcdted = fxdt.predict(xfcts)"
   ]
  },
  {
   "cell_type": "code",
   "execution_count": 52,
   "metadata": {},
   "outputs": [
    {
     "data": {
      "text/plain": [
       "array([[  1031,    445],\n",
       "       [ 33410, 112237]], dtype=int64)"
      ]
     },
     "execution_count": 52,
     "metadata": {},
     "output_type": "execute_result"
    }
   ],
   "source": [
    "# Draw confusion mitrix\n",
    "cm = confusion_matrix(yfcts, fcdted, labels = [1,0])\n",
    "cm"
   ]
  },
  {
   "cell_type": "code",
   "execution_count": 53,
   "metadata": {},
   "outputs": [
    {
     "name": "stdout",
     "output_type": "stream",
     "text": [
      "fpr\n",
      "0.2886178861788618\n",
      "tpr\n",
      "0.7699506340672997\n"
     ]
    }
   ],
   "source": [
    "# fpr tpr\n",
    "fpr = 426/(426+1050)\n",
    "print(\"fpr\")\n",
    "print(fpr)\n",
    "\n",
    "tpr = 112141/(33506 +112141)\n",
    "print(\"tpr\")\n",
    "print(tpr)"
   ]
  },
  {
   "cell_type": "code",
   "execution_count": 54,
   "metadata": {},
   "outputs": [
    {
     "data": {
      "image/png": "[encoded data removed]",
      "text/plain": [
       "<Figure size 432x288 with 1 Axes>"
      ]
     },
     "metadata": {
      "needs_background": "light"
     },
     "output_type": "display_data"
    }
   ],
   "source": [
    "fpr, tpr, threshold = roc_curve(yfcts, fxdt.predict_proba(xfcts)[:,1])\n",
    "plt.figure()\n",
    "plt.plot(fpr, tpr)\n",
    "plt.plot([0, 1], [0, 1],'r--')\n",
    "plt.xlim([0.0, 1.0])\n",
    "plt.ylim([0.0, 1.05])\n",
    "plt.show()"
   ]
  },
  {
   "cell_type": "markdown",
   "metadata": {},
   "source": [
    "Since we need TPR - FPR as large as possible, so we choose Decision Tree"
   ]
  },
  {
   "cell_type": "markdown",
   "metadata": {},
   "source": [
    "### Prediction"
   ]
  },
  {
   "cell_type": "code",
   "execution_count": 55,
   "metadata": {},
   "outputs": [
    {
     "data": {
      "text/plain": [
       "array([22.42639809, 13.36050811, 28.25296232, ..., 15.04321262,\n",
       "       25.03995264, 22.98811175])"
      ]
     },
     "execution_count": 55,
     "metadata": {},
     "output_type": "execute_result"
    }
   ],
   "source": [
    "out1 = nmlr.predict(df2_nm)\n",
    "out1"
   ]
  },
  {
   "cell_type": "code",
   "execution_count": 56,
   "metadata": {},
   "outputs": [
    {
     "data": {
      "text/plain": [
       "array([False, False,  True, ..., False, False,  True])"
      ]
     },
     "execution_count": 56,
     "metadata": {},
     "output_type": "execute_result"
    }
   ],
   "source": [
    "out2 = fxdt.predict(df2_fc)\n",
    "out2"
   ]
  },
  {
   "cell_type": "code",
   "execution_count": 57,
   "metadata": {},
   "outputs": [],
   "source": [
    "getID = pd.read_csv('TestDataYremoved.csv')\n",
    "\n",
    "output = pd.DataFrame({'LID': getID['LID'], 'NMONTHS':out1, 'FORCLOSED':out2})\n",
    "output.to_csv(\"result.csv\")"
   ]
  }
 ],
 "metadata": {
  "kernelspec": {
   "display_name": "Python 3",
   "language": "python",
   "name": "python3"
  },
  "language_info": {
   "codemirror_mode": {
    "name": "ipython",
    "version": 3
   },
   "file_extension": ".py",
   "mimetype": "text/x-python",
   "name": "python",
   "nbconvert_exporter": "python",
   "pygments_lexer": "ipython3",
   "version": "3.8.5"
  }
 },
 "nbformat": 4,
 "nbformat_minor": 4
}
